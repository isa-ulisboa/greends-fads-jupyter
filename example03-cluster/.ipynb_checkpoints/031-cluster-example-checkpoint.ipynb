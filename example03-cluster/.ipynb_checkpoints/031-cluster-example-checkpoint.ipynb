{
 "cells": [
  {
   "cell_type": "markdown",
   "id": "864da048",
   "metadata": {},
   "source": [
    "### GreenDS\n",
    "# Fundamentals of Data Science\n",
    "## Example on Unsupervised Machine Learning - Clustering\n",
    "### Example 03.1\n",
    "\n",
    "### Introduction\n",
    "\n",
    "The purpose of this Jupyter Notebook is to demonstrate the process of creating clusters on data for which we do not have a prior classification. We will explore two methods commonly used:\n",
    "- K-means\n",
    "- Hierarchical clusterimg\n",
    "\n",
    "The data to be used is from the Agricultural Census of Portugal, from which data on **level of education**, **labour** data and **production** from 2019 was aggregated in one table, for the level of freguesia."
   ]
  },
  {
   "cell_type": "markdown",
   "id": "82af3cd1",
   "metadata": {},
   "source": [
    "## 1. Prepare your environment and explore data\n",
    "\n",
    "Import the necessary modules and the data file."
   ]
  },
  {
   "cell_type": "code",
   "execution_count": null,
   "id": "c1d4e06f",
   "metadata": {},
   "outputs": [],
   "source": [
    "# import libraries\n",
    "import numpy as np\n",
    "import pandas as pd\n",
    "import seaborn as sns\n",
    "from matplotlib import pyplot as plt\n",
    "\n",
    "%matplotlib inline"
   ]
  },
  {
   "cell_type": "markdown",
   "id": "203c93ba",
   "metadata": {},
   "source": [
    "Data was extracted from the dms_INE database, using the SQL script stored at the *script* directory of this project. Import data to a Pandas Dataframe:"
   ]
  },
  {
   "cell_type": "code",
   "execution_count": null,
   "id": "5ef4f9fe",
   "metadata": {},
   "outputs": [],
   "source": [
    "# read data\n",
    "census_df = pd.read_csv(\"./raw-data/data_agric_census_freg.csv\")\n",
    "census_df.shape"
   ]
  },
  {
   "cell_type": "markdown",
   "id": "50eba76d",
   "metadata": {},
   "source": [
    "We can see that the file contains 3068 rows and 16 columns. Let us see the structure of the Pandas dataframe:"
   ]
  },
  {
   "cell_type": "code",
   "execution_count": null,
   "id": "3abcb646",
   "metadata": {},
   "outputs": [],
   "source": [
    "census_df.info()"
   ]
  },
  {
   "cell_type": "markdown",
   "id": "e9756363",
   "metadata": {},
   "source": [
    "We can also see a preview of the table:"
   ]
  },
  {
   "cell_type": "code",
   "execution_count": null,
   "id": "812833a8",
   "metadata": {},
   "outputs": [],
   "source": [
    "census_df.head()"
   ]
  },
  {
   "cell_type": "markdown",
   "id": "232ca910",
   "metadata": {},
   "source": [
    "The table contains 16 columns. The first three are the freguesia (the operational unit of the table), its municipality and the NUTS 2 level. The following columns correspond to education (e prefix), labour (l prefix) and the final two to the production value, in euros, and production area, in hectars.\n",
    "\n",
    "We can start exploring data by checking the histograms."
   ]
  },
  {
   "cell_type": "code",
   "execution_count": null,
   "id": "5a1d371e",
   "metadata": {},
   "outputs": [],
   "source": [
    "sns.set(style='white',font_scale=1.3, rc={'figure.figsize':(20,20)})\n",
    "ax=census_df.hist(bins=20,color='red' )"
   ]
  },
  {
   "cell_type": "markdown",
   "id": "d9312d1a",
   "metadata": {},
   "source": [
    "We can observe that most of them are skewed, indicating a uneven distribution. This might have implications in the efficiency of the use of lienar methods to analyse data. Let's create another visualization, creating a scatterplot matrix between all variables. It is suggested that you analyse the output image in detail."
   ]
  },
  {
   "cell_type": "code",
   "execution_count": null,
   "id": "4c53fb21",
   "metadata": {},
   "outputs": [],
   "source": [
    "g = sns.PairGrid(census_df, hue=\"NUTS2\")\n",
    "g.map(sns.scatterplot)\n",
    "g.add_legend()"
   ]
  },
  {
   "cell_type": "markdown",
   "id": "d6ae94e6",
   "metadata": {},
   "source": [
    "The detailed analysis reveals that there seems to be a group of samples of different behaviour than the others. These are the samples from Madeira and Azores. Since these regions are insular, and in the context of agriculture are naturally particular and different to the practices of Portugal Mainland, it might be a good idea to remove the rows from these two regions from the analysis. Therefore, we filtered only the rows for the NUTS 2 of Portugal Mainland."
   ]
  },
  {
   "cell_type": "code",
   "execution_count": null,
   "id": "c1bdeff9",
   "metadata": {},
   "outputs": [],
   "source": [
    "values = ['Norte','Centro','Área Metropolitana de Lisboa', 'Alentejo', 'Algarve']\n",
    "df1 = census_df.loc[census_df['NUTS2'].isin(values)].copy()"
   ]
  },
  {
   "cell_type": "markdown",
   "id": "8ea8ce12",
   "metadata": {},
   "source": [
    "Let us preview the current format of the dataframe."
   ]
  },
  {
   "cell_type": "code",
   "execution_count": null,
   "id": "a25fff5c",
   "metadata": {},
   "outputs": [],
   "source": [
    "df1.head()"
   ]
  },
  {
   "cell_type": "markdown",
   "id": "a03866cd",
   "metadata": {},
   "source": [
    "And we can make a scatter plot to compare two variables, in this case the production value and production area."
   ]
  },
  {
   "cell_type": "code",
   "execution_count": null,
   "id": "da324510",
   "metadata": {},
   "outputs": [],
   "source": [
    "sns.lmplot( x=\"value_eur\", y=\"area_ha\", data=df1, fit_reg=False, hue='NUTS2', legend=True)"
   ]
  },
  {
   "cell_type": "markdown",
   "id": "cb507085",
   "metadata": {},
   "source": [
    "In the next cell, create biplots between the production value and other variables of education and labour factors."
   ]
  },
  {
   "cell_type": "code",
   "execution_count": null,
   "id": "44971da6",
   "metadata": {},
   "outputs": [],
   "source": [
    "# put your code here"
   ]
  },
  {
   "cell_type": "markdown",
   "id": "4cfc44c0",
   "metadata": {},
   "source": [
    "In order to continue with the analysis, we will remove the columns that are non-numeric (identified as *object* in the dataframe structure above)"
   ]
  },
  {
   "cell_type": "code",
   "execution_count": null,
   "id": "7c18f48c",
   "metadata": {},
   "outputs": [],
   "source": [
    "df1.drop(['municipality', 'freguesia', 'NUTS2'], axis = 1, inplace = True)"
   ]
  },
  {
   "cell_type": "code",
   "execution_count": null,
   "id": "2214ca10",
   "metadata": {},
   "outputs": [],
   "source": [
    "df1.head()"
   ]
  },
  {
   "cell_type": "markdown",
   "id": "a6731586",
   "metadata": {},
   "source": [
    "We can also prepare a summary table for the dataframe, with descriptive statistics:"
   ]
  },
  {
   "cell_type": "code",
   "execution_count": null,
   "id": "8d206f42",
   "metadata": {},
   "outputs": [],
   "source": [
    "df1.describe(include='all')"
   ]
  },
  {
   "cell_type": "markdown",
   "id": "a640efa2",
   "metadata": {},
   "source": [
    "Boxplots are very usefull to analyse the presence of outliers. The next code generates a boxplot for each variable:"
   ]
  },
  {
   "cell_type": "code",
   "execution_count": null,
   "id": "63f29cb1",
   "metadata": {},
   "outputs": [],
   "source": [
    "fig, axes = plt.subplots(nrows=3, ncols=5,figsize=(12,18))\n",
    "fig.suptitle('Outliers\\n', size = 25)\n",
    "\n",
    "sns.boxplot(ax=axes[0, 0], data=df1['e_none'], palette='Spectral').set_title(\"education none\")\n",
    "sns.boxplot(ax=axes[0, 1], data=df1['e_basic'], palette='Spectral').set_title(\"education basic\")\n",
    "sns.boxplot(ax=axes[0, 2], data=df1['e_secondary'], palette='Spectral').set_title(\"education secondary\")\n",
    "sns.boxplot(ax=axes[0, 3], data=df1['e_superior'], palette='Spectral').set_title(\"education superior\")\n",
    "sns.boxplot(ax=axes[0, 4], data=df1['l_family'], palette='Spectral').set_title(\"labour family\")\n",
    "sns.boxplot(ax=axes[1, 0], data=df1['l_holder'], palette='Spectral').set_title(\"labour holder\")\n",
    "sns.boxplot(ax=axes[1, 1], data=df1['l_spouse'], palette='Spectral').set_title(\"labour spouse\")\n",
    "sns.boxplot(ax=axes[1, 2], data=df1['l_other_fam'], palette='Spectral').set_title(\"labour other family\")\n",
    "sns.boxplot(ax=axes[1, 3], data=df1['l_regular'], palette='Spectral').set_title(\"labour regular\")\n",
    "sns.boxplot(ax=axes[1, 4], data=df1['l_non_regular'], palette='Spectral').set_title(\"labour non regular\")\n",
    "sns.boxplot(ax=axes[2, 0], data=df1['l_non_hired'], palette='Spectral').set_title(\"labour non hired\")\n",
    "sns.boxplot(ax=axes[2, 1], data=df1['value_eur'], palette='Spectral').set_title(\"production value\")\n",
    "sns.boxplot(ax=axes[2, 2], data=df1['area_ha'], palette='Spectral').set_title(\"production area\")\n",
    "\n",
    "plt.tight_layout()\n"
   ]
  },
  {
   "cell_type": "markdown",
   "id": "e0af355c",
   "metadata": {},
   "source": [
    "As we suspected from the analysis of the histograms above, there are many outliers.\n",
    "\n",
    "## Scaling data\n",
    "\n",
    "Now, we will make a copy of the dataframe. The new dataframe will be scaled, which means reduce all variables to the same range of variation. This is important so that a variable does not have a higher weight in the cluster analysis only because its absolute values are higher."
   ]
  },
  {
   "cell_type": "code",
   "execution_count": null,
   "id": "2ad43d20",
   "metadata": {},
   "outputs": [],
   "source": [
    "df2 = df1.copy()"
   ]
  },
  {
   "cell_type": "code",
   "execution_count": null,
   "id": "58ca8e19",
   "metadata": {},
   "outputs": [],
   "source": [
    "from sklearn.preprocessing import StandardScaler\n",
    "scaler = StandardScaler()\n",
    "df3=scaler.fit_transform(df2)"
   ]
  },
  {
   "cell_type": "code",
   "execution_count": null,
   "id": "add650a1",
   "metadata": {},
   "outputs": [],
   "source": [
    "# Check the scaled values\n",
    "df3"
   ]
  },
  {
   "cell_type": "markdown",
   "id": "d89d5168",
   "metadata": {},
   "source": [
    "## 2. Determine k\n",
    "\n",
    "First, we need to determine the number of clusters, k. We can use the Elbow method as a guide."
   ]
  },
  {
   "cell_type": "code",
   "execution_count": null,
   "id": "a692ca2b",
   "metadata": {},
   "outputs": [],
   "source": [
    "from sklearn.cluster import KMeans\n",
    "wcss = []\n",
    "for i in range(1, 11):\n",
    "    kmeans = KMeans(n_clusters = i, init = 'k-means++', random_state = 42)\n",
    "    kmeans.fit(df3)\n",
    "    wcss.append(kmeans.inertia_)\n",
    "    \n",
    "plt.subplots(nrows=1, ncols=1,figsize=(10,10))\n",
    "plt.plot(range(1, 11), wcss)\n",
    "plt.title('The Elbow Method')\n",
    "plt.xlabel('Number of clusters')\n",
    "plt.ylabel('WCSS')\n",
    "plt.show()"
   ]
  },
  {
   "cell_type": "markdown",
   "id": "7e5de6d8",
   "metadata": {},
   "source": [
    "To determine the number of clusters, we can try to identify in which step the change of the slope in the curve is more pronounced. "
   ]
  },
  {
   "cell_type": "markdown",
   "id": "f9010044",
   "metadata": {},
   "source": [
    "Another help can be from a dendogram. This is a representation of an agglomerative clustering, also an unsupervised method."
   ]
  },
  {
   "cell_type": "code",
   "execution_count": null,
   "id": "6731c8f9",
   "metadata": {},
   "outputs": [],
   "source": [
    "import scipy.cluster.hierarchy as sch\n",
    "from matplotlib import pyplot\n",
    "pyplot.figure(figsize=(12, 5))\n",
    "dendrogram = sch.dendrogram(sch.linkage(df3, method = 'ward'))\n",
    "plt.title('Dendrogram')\n",
    "plt.ylabel('Euclidean distances')\n",
    "plt.show()"
   ]
  },
  {
   "cell_type": "markdown",
   "id": "e59a6b22",
   "metadata": {},
   "source": [
    "From the Elbow method and the dendogram, it seams that there are 4 clusters, with one very small. Let's use that number."
   ]
  },
  {
   "cell_type": "markdown",
   "id": "00b2d922",
   "metadata": {},
   "source": [
    "## 3. Start K-means calculation"
   ]
  },
  {
   "cell_type": "code",
   "execution_count": null,
   "id": "042c42fd",
   "metadata": {},
   "outputs": [],
   "source": [
    "df_kmeans = df2.copy()"
   ]
  },
  {
   "cell_type": "code",
   "execution_count": null,
   "id": "11df3cce",
   "metadata": {},
   "outputs": [],
   "source": [
    "# Training model\n",
    "kmeans = KMeans(n_clusters = 5, init = 'k-means++', random_state = 42)\n",
    "y_kmeans = kmeans.fit_predict(df_kmeans)"
   ]
  },
  {
   "cell_type": "code",
   "execution_count": null,
   "id": "45c422d0",
   "metadata": {},
   "outputs": [],
   "source": [
    "df_kmeans"
   ]
  },
  {
   "cell_type": "code",
   "execution_count": null,
   "id": "ec5405b1",
   "metadata": {},
   "outputs": [],
   "source": [
    "df_kmeans = df1.copy()\n",
    "# Checking number of items in clusters and creating 'Cluster' column\n",
    "df_kmeans['Cluster'] = y_kmeans\n",
    "df_kmeans['Cluster'].value_counts()"
   ]
  },
  {
   "cell_type": "markdown",
   "id": "17627de4",
   "metadata": {},
   "source": [
    "The number of elements of each cluster if very different. There are only four samples that belong to cluster 3. This requires the detailed identification of that samples, in order to understand why they separate from other samples. We can make a plot to check the clusters in relation to two variables selected."
   ]
  },
  {
   "cell_type": "code",
   "execution_count": null,
   "id": "66edea58",
   "metadata": {},
   "outputs": [],
   "source": [
    "plt.figure(figsize=(15,7))\n",
    "sns.scatterplot(data=df_kmeans, x='e_secondary', y='value_eur', hue = 'Cluster', s=15, palette=\"tab10\")"
   ]
  },
  {
   "cell_type": "markdown",
   "id": "faa53ad5",
   "metadata": {},
   "source": [
    "The production value seems to be a major factor for the creation of clusters. The samples of cluster 3 are the ones with higher value. We could pursue this indication to identify which freguesias are these, and try to understand its behaviour.\n",
    "\n",
    "Try to plot the production value againts other variables, to see how the clusters appear."
   ]
  },
  {
   "cell_type": "code",
   "execution_count": null,
   "id": "ec2e4118",
   "metadata": {},
   "outputs": [],
   "source": [
    "# add your code here to create plots..."
   ]
  },
  {
   "cell_type": "markdown",
   "id": "fa7229a1",
   "metadata": {},
   "source": [
    "# 4. Hierarchical clustering\n",
    "## Agglomerative clustering\n",
    "\n",
    "Another unsupervised ML clustering method is Agglomerative clustering. The approach is different. First, a distance metrics is determined for all samples, and after that, a cluster method is applied to aggregate samples based on the distance. In this case, we will use the Euclidean distance and the Ward cluster method."
   ]
  },
  {
   "cell_type": "code",
   "execution_count": null,
   "id": "1de0776f",
   "metadata": {},
   "outputs": [],
   "source": [
    "# Copying data sets\n",
    "df_AgglomerativeC = df3.copy()"
   ]
  },
  {
   "cell_type": "code",
   "execution_count": null,
   "id": "3bb449e1",
   "metadata": {},
   "outputs": [],
   "source": [
    "from sklearn.cluster import AgglomerativeClustering\n",
    "\n",
    "# Training model\n",
    "AgglomerativeC = AgglomerativeClustering(n_clusters=4, affinity = 'euclidean', linkage = 'ward')\n",
    "y_AgglomerativeC = AgglomerativeC.fit_predict(df_AgglomerativeC)"
   ]
  },
  {
   "cell_type": "code",
   "execution_count": null,
   "id": "e0cf7f51",
   "metadata": {},
   "outputs": [],
   "source": [
    "df_AgglomerativeC = df2.copy()\n",
    "# Checking number of items in clusters and creating 'Cluster' column\n",
    "df_AgglomerativeC['Cluster'] = y_AgglomerativeC\n",
    "df_AgglomerativeC['Cluster'].value_counts()"
   ]
  },
  {
   "cell_type": "markdown",
   "id": "7093855b",
   "metadata": {},
   "source": [
    "Four clusters were created. Again, one of the clusters only has one value. Let's create a plot."
   ]
  },
  {
   "cell_type": "code",
   "execution_count": null,
   "id": "113758be",
   "metadata": {},
   "outputs": [],
   "source": [
    "plt.figure(figsize=(15,7))\n",
    "sns.scatterplot(data=df_AgglomerativeC, x='e_secondary', y='value_eur', hue = 'Cluster', s=15, palette=\"tab10\")"
   ]
  },
  {
   "cell_type": "markdown",
   "id": "7a71ef36",
   "metadata": {},
   "source": [
    "The segregation is not as clear as in the result of the k-means. The work on this dataset still needs mode exploration. Continue to the other notebook of this example."
   ]
  }
 ],
 "metadata": {
  "kernelspec": {
   "display_name": "Python 3 (ipykernel)",
   "language": "python",
   "name": "python3"
  },
  "language_info": {
   "codemirror_mode": {
    "name": "ipython",
    "version": 3
   },
   "file_extension": ".py",
   "mimetype": "text/x-python",
   "name": "python",
   "nbconvert_exporter": "python",
   "pygments_lexer": "ipython3",
   "version": "3.10.8"
  }
 },
 "nbformat": 4,
 "nbformat_minor": 5
}
