{
 "cells": [
  {
   "cell_type": "markdown",
   "id": "d442f150",
   "metadata": {},
   "source": [
    "### GreenDS\n",
    "\n",
    "# Fundamentals of Agro-Environmental Data Science"
   ]
  },
  {
   "cell_type": "markdown",
   "id": "f26b0967",
   "metadata": {},
   "source": [
    "### Introduction\n",
    "\n",
    "The purpose of this exercise Jupyter Notebook is to demonstrate the workflow in a data science project using this IDE. "
   ]
  },
  {
   "cell_type": "markdown",
   "id": "97e1dd97",
   "metadata": {},
   "source": [
    "# Examples of Data Science Use Cases\n",
    "\n",
    "## Data Science in Healthcare - Predicting Breats Cancer\n",
    "\n",
    "This example is based on the following [Use Case](https://www.datacamp.com/blog/data-science-use-cases-guide) and Kaggle [example](https://www.kaggle.com/code/vincentlugat/breast-cancer-analysis-and-prediction)."
   ]
  },
  {
   "cell_type": "markdown",
   "id": "51ca1cb8",
   "metadata": {},
   "source": [
    "## 1. Prepare your environment:\n",
    "- create a `raw-data` directory in your project's directory to place external data files.\n",
    "- install and load python libraries necessary to run the python code."
   ]
  },
  {
   "cell_type": "code",
   "execution_count": null,
   "id": "e2fd6f21",
   "metadata": {},
   "outputs": [],
   "source": [
    "# If you don't have pandas library installed, you can do it at the shell terminal\n",
    "# with the following command\n",
    "#\n",
    "# $ pip3 install pandas\n",
    "# $ pip3 install sklearn\n",
    "\n",
    "# import pandas library\n",
    "import pandas as pd"
   ]
  },
  {
   "cell_type": "markdown",
   "id": "13e45c1d",
   "metadata": {},
   "source": [
    "## Read data\n",
    "You need to download data from http://www.kaggle.com/uciml/breast-cancer-wisconsin-data."
   ]
  },
  {
   "cell_type": "code",
   "execution_count": null,
   "id": "70285455",
   "metadata": {},
   "outputs": [],
   "source": [
    "cancer_data = pd.read_csv('./raw-data/data.csv')\n",
    "pd.options.display.max_columns = len(cancer_data)\n",
    "print(f'Number of entries: {cancer_data.shape[0]:,}\\n'\n",
    "      f'Number of features: {cancer_data.shape[1]:,}\\n\\n'\n",
    "      f'Number of missing values: {cancer_data.isnull().sum().sum()}\\n\\n'\n",
    "      f'{cancer_data.head(2)}')"
   ]
  },
  {
   "cell_type": "code",
   "execution_count": null,
   "id": "ae4aa62c",
   "metadata": {},
   "outputs": [],
   "source": [
    "cancer_data"
   ]
  },
  {
   "cell_type": "markdown",
   "id": "be2a2100",
   "metadata": {},
   "source": [
    "Remove last column with missing values."
   ]
  },
  {
   "cell_type": "code",
   "execution_count": null,
   "id": "625e3680",
   "metadata": {},
   "outputs": [],
   "source": [
    "cancer_data = cancer_data.drop('Unnamed: 32', axis=1)"
   ]
  },
  {
   "cell_type": "markdown",
   "id": "ef669182",
   "metadata": {},
   "source": [
    "How many women, in %, have a confirmed cancer (a malignant breast tumor)? "
   ]
  },
  {
   "cell_type": "code",
   "execution_count": null,
   "id": "8dfcb2e2",
   "metadata": {},
   "outputs": [],
   "source": [
    "round(cancer_data['diagnosis'].value_counts()*100/len(cancer_data)).convert_dtypes()"
   ]
  },
  {
   "cell_type": "code",
   "execution_count": null,
   "id": "2d4036bf",
   "metadata": {},
   "outputs": [],
   "source": [
    "X = cancer_data.iloc[:, 2:32].values\n",
    "y = cancer_data.iloc[:, 1].values\n",
    "\n",
    "# Encoding categorical data\n",
    "from sklearn.preprocessing import LabelEncoder\n",
    "\n",
    "labelencoder_y = LabelEncoder()\n",
    "y = labelencoder_y.fit_transform(y)"
   ]
  },
  {
   "cell_type": "code",
   "execution_count": null,
   "id": "b3a43b6a",
   "metadata": {},
   "outputs": [],
   "source": [
    "from sklearn.model_selection import train_test_split\n",
    "from sklearn.preprocessing import StandardScaler\n",
    "\n",
    "X_train, X_test, y_train, y_test = train_test_split(X, y, test_size=0.2, random_state=1)\n",
    "\n",
    "sc = StandardScaler()\n",
    "X_train = sc.fit_transform(X_train)\n",
    "X_test = sc.transform(X_test)"
   ]
  },
  {
   "cell_type": "code",
   "execution_count": null,
   "id": "3319c0a4",
   "metadata": {},
   "outputs": [],
   "source": [
    "from sklearn.neighbors import KNeighborsClassifier\n",
    "from sklearn.linear_model import LogisticRegression\n",
    "\n",
    "# KNN\n",
    "knn = KNeighborsClassifier()\n",
    "knn.fit(X_train, y_train)\n",
    "knn_predictions = knn.predict(X_test)\n",
    "\n",
    "# Logistic regression\n",
    "lr = LogisticRegression()\n",
    "lr.fit(X_train, y_train)\n",
    "lr_predictions = lr.predict(X_test)"
   ]
  },
  {
   "cell_type": "code",
   "execution_count": null,
   "id": "75564eaa",
   "metadata": {},
   "outputs": [],
   "source": [
    "from sklearn.metrics import accuracy_score\n",
    "\n",
    "print(f'Accuracy scores:\\n'\n",
    "      f'KNN model:\\t\\t   {accuracy_score(y_test, knn_predictions):.3f}\\n'\n",
    "      f'Logistic regression model: {accuracy_score(y_test, lr_predictions):.3f}')"
   ]
  }
 ],
 "metadata": {
  "kernelspec": {
   "display_name": "Python 3.10.7 64-bit",
   "language": "python",
   "name": "python3"
  },
  "language_info": {
   "codemirror_mode": {
    "name": "ipython",
    "version": 3
   },
   "file_extension": ".py",
   "mimetype": "text/x-python",
   "name": "python",
   "nbconvert_exporter": "python",
   "pygments_lexer": "ipython3",
   "version": "3.10.7"
  },
  "vscode": {
   "interpreter": {
    "hash": "aee8b7b246df8f9039afb4144a1f6fd8d2ca17a180786b69acc140d282b71a49"
   }
  }
 },
 "nbformat": 4,
 "nbformat_minor": 5
}
